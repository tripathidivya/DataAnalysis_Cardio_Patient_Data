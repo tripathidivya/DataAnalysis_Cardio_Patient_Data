{
 "cells": [
  {
   "cell_type": "code",
   "execution_count": 1,
   "id": "365c71a8",
   "metadata": {
    "_cell_guid": "b1076dfc-b9ad-4769-8c92-a6c4dae69d19",
    "_uuid": "8f2839f25d086af736a60e9eeb907d3b93b6e0e5",
    "execution": {
     "iopub.execute_input": "2023-12-09T06:23:37.904963Z",
     "iopub.status.busy": "2023-12-09T06:23:37.904571Z",
     "iopub.status.idle": "2023-12-09T06:23:38.837095Z",
     "shell.execute_reply": "2023-12-09T06:23:38.835417Z"
    },
    "papermill": {
     "duration": 0.942732,
     "end_time": "2023-12-09T06:23:38.839575",
     "exception": false,
     "start_time": "2023-12-09T06:23:37.896843",
     "status": "completed"
    },
    "tags": []
   },
   "outputs": [
    {
     "name": "stdout",
     "output_type": "stream",
     "text": [
      "/kaggle/input/cardiovascular-disease-dataset/cardio_train.csv\n"
     ]
    }
   ],
   "source": [
    "# This Python 3 environment comes with many helpful analytics libraries installed\n",
    "# It is defined by the kaggle/python Docker image: https://github.com/kaggle/docker-python\n",
    "# For example, here's several helpful packages to load\n",
    "\n",
    "import numpy as np # linear algebra\n",
    "import pandas as pd # data processing, CSV file I/O (e.g. pd.read_csv)\n",
    "\n",
    "# Input data files are available in the read-only \"../input/\" directory\n",
    "# For example, running this (by clicking run or pressing Shift+Enter) will list all files under the input directory\n",
    "\n",
    "import os\n",
    "for dirname, _, filenames in os.walk('/kaggle/input'):\n",
    "    for filename in filenames:\n",
    "        print(os.path.join(dirname, filename))\n",
    "\n",
    "# You can write up to 20GB to the current directory (/kaggle/working/) that gets preserved as output when you create a version using \"Save & Run All\" \n",
    "# You can also write temporary files to /kaggle/temp/, but they won't be saved outside of the current session"
   ]
  },
  {
   "cell_type": "code",
   "execution_count": 2,
   "id": "8df54f03",
   "metadata": {
    "execution": {
     "iopub.execute_input": "2023-12-09T06:23:38.855443Z",
     "iopub.status.busy": "2023-12-09T06:23:38.854562Z",
     "iopub.status.idle": "2023-12-09T06:23:39.021432Z",
     "shell.execute_reply": "2023-12-09T06:23:39.020204Z"
    },
    "papermill": {
     "duration": 0.177028,
     "end_time": "2023-12-09T06:23:39.024290",
     "exception": false,
     "start_time": "2023-12-09T06:23:38.847262",
     "status": "completed"
    },
    "tags": []
   },
   "outputs": [],
   "source": [
    "#Load the dataset\n",
    "data = pd.read_csv('/kaggle/input/cardiovascular-disease-dataset/cardio_train.csv', sep=';')"
   ]
  },
  {
   "cell_type": "code",
   "execution_count": 3,
   "id": "2548df46",
   "metadata": {
    "execution": {
     "iopub.execute_input": "2023-12-09T06:23:39.037081Z",
     "iopub.status.busy": "2023-12-09T06:23:39.036680Z",
     "iopub.status.idle": "2023-12-09T06:23:39.068883Z",
     "shell.execute_reply": "2023-12-09T06:23:39.067695Z"
    },
    "papermill": {
     "duration": 0.041481,
     "end_time": "2023-12-09T06:23:39.071394",
     "exception": false,
     "start_time": "2023-12-09T06:23:39.029913",
     "status": "completed"
    },
    "tags": []
   },
   "outputs": [
    {
     "data": {
      "text/html": [
       "<div>\n",
       "<style scoped>\n",
       "    .dataframe tbody tr th:only-of-type {\n",
       "        vertical-align: middle;\n",
       "    }\n",
       "\n",
       "    .dataframe tbody tr th {\n",
       "        vertical-align: top;\n",
       "    }\n",
       "\n",
       "    .dataframe thead th {\n",
       "        text-align: right;\n",
       "    }\n",
       "</style>\n",
       "<table border=\"1\" class=\"dataframe\">\n",
       "  <thead>\n",
       "    <tr style=\"text-align: right;\">\n",
       "      <th></th>\n",
       "      <th>id</th>\n",
       "      <th>age</th>\n",
       "      <th>gender</th>\n",
       "      <th>height</th>\n",
       "      <th>weight</th>\n",
       "      <th>ap_hi</th>\n",
       "      <th>ap_lo</th>\n",
       "      <th>cholesterol</th>\n",
       "      <th>gluc</th>\n",
       "      <th>smoke</th>\n",
       "      <th>alco</th>\n",
       "      <th>active</th>\n",
       "      <th>cardio</th>\n",
       "    </tr>\n",
       "  </thead>\n",
       "  <tbody>\n",
       "    <tr>\n",
       "      <th>0</th>\n",
       "      <td>0</td>\n",
       "      <td>18393</td>\n",
       "      <td>2</td>\n",
       "      <td>168</td>\n",
       "      <td>62.0</td>\n",
       "      <td>110</td>\n",
       "      <td>80</td>\n",
       "      <td>1</td>\n",
       "      <td>1</td>\n",
       "      <td>0</td>\n",
       "      <td>0</td>\n",
       "      <td>1</td>\n",
       "      <td>0</td>\n",
       "    </tr>\n",
       "    <tr>\n",
       "      <th>1</th>\n",
       "      <td>1</td>\n",
       "      <td>20228</td>\n",
       "      <td>1</td>\n",
       "      <td>156</td>\n",
       "      <td>85.0</td>\n",
       "      <td>140</td>\n",
       "      <td>90</td>\n",
       "      <td>3</td>\n",
       "      <td>1</td>\n",
       "      <td>0</td>\n",
       "      <td>0</td>\n",
       "      <td>1</td>\n",
       "      <td>1</td>\n",
       "    </tr>\n",
       "    <tr>\n",
       "      <th>2</th>\n",
       "      <td>2</td>\n",
       "      <td>18857</td>\n",
       "      <td>1</td>\n",
       "      <td>165</td>\n",
       "      <td>64.0</td>\n",
       "      <td>130</td>\n",
       "      <td>70</td>\n",
       "      <td>3</td>\n",
       "      <td>1</td>\n",
       "      <td>0</td>\n",
       "      <td>0</td>\n",
       "      <td>0</td>\n",
       "      <td>1</td>\n",
       "    </tr>\n",
       "    <tr>\n",
       "      <th>3</th>\n",
       "      <td>3</td>\n",
       "      <td>17623</td>\n",
       "      <td>2</td>\n",
       "      <td>169</td>\n",
       "      <td>82.0</td>\n",
       "      <td>150</td>\n",
       "      <td>100</td>\n",
       "      <td>1</td>\n",
       "      <td>1</td>\n",
       "      <td>0</td>\n",
       "      <td>0</td>\n",
       "      <td>1</td>\n",
       "      <td>1</td>\n",
       "    </tr>\n",
       "    <tr>\n",
       "      <th>4</th>\n",
       "      <td>4</td>\n",
       "      <td>17474</td>\n",
       "      <td>1</td>\n",
       "      <td>156</td>\n",
       "      <td>56.0</td>\n",
       "      <td>100</td>\n",
       "      <td>60</td>\n",
       "      <td>1</td>\n",
       "      <td>1</td>\n",
       "      <td>0</td>\n",
       "      <td>0</td>\n",
       "      <td>0</td>\n",
       "      <td>0</td>\n",
       "    </tr>\n",
       "  </tbody>\n",
       "</table>\n",
       "</div>"
      ],
      "text/plain": [
       "   id    age  gender  height  weight  ap_hi  ap_lo  cholesterol  gluc  smoke  \\\n",
       "0   0  18393       2     168    62.0    110     80            1     1      0   \n",
       "1   1  20228       1     156    85.0    140     90            3     1      0   \n",
       "2   2  18857       1     165    64.0    130     70            3     1      0   \n",
       "3   3  17623       2     169    82.0    150    100            1     1      0   \n",
       "4   4  17474       1     156    56.0    100     60            1     1      0   \n",
       "\n",
       "   alco  active  cardio  \n",
       "0     0       1       0  \n",
       "1     0       1       1  \n",
       "2     0       0       1  \n",
       "3     0       1       1  \n",
       "4     0       0       0  "
      ]
     },
     "execution_count": 3,
     "metadata": {},
     "output_type": "execute_result"
    }
   ],
   "source": [
    "data.head()\n"
   ]
  },
  {
   "cell_type": "code",
   "execution_count": 4,
   "id": "ad16e4a8",
   "metadata": {
    "execution": {
     "iopub.execute_input": "2023-12-09T06:23:39.085268Z",
     "iopub.status.busy": "2023-12-09T06:23:39.084889Z",
     "iopub.status.idle": "2023-12-09T06:23:39.103056Z",
     "shell.execute_reply": "2023-12-09T06:23:39.101798Z"
    },
    "papermill": {
     "duration": 0.028235,
     "end_time": "2023-12-09T06:23:39.105855",
     "exception": false,
     "start_time": "2023-12-09T06:23:39.077620",
     "status": "completed"
    },
    "tags": []
   },
   "outputs": [],
   "source": [
    "data = data.loc[:, ['id', 'age', 'gender', 'height', 'weight', 'ap_hi', 'ap_lo', 'cholesterol', 'gluc', 'smoke', 'alco', 'active', 'cardio']]\n",
    "\n"
   ]
  },
  {
   "cell_type": "code",
   "execution_count": 5,
   "id": "2fd0e2e0",
   "metadata": {
    "execution": {
     "iopub.execute_input": "2023-12-09T06:23:39.120903Z",
     "iopub.status.busy": "2023-12-09T06:23:39.119087Z",
     "iopub.status.idle": "2023-12-09T06:23:39.129292Z",
     "shell.execute_reply": "2023-12-09T06:23:39.128343Z"
    },
    "papermill": {
     "duration": 0.019682,
     "end_time": "2023-12-09T06:23:39.131741",
     "exception": false,
     "start_time": "2023-12-09T06:23:39.112059",
     "status": "completed"
    },
    "tags": []
   },
   "outputs": [],
   "source": [
    "# Convert age from days to years\n",
    "data['age'] = data['age'] // 365.25  # Assuming a year is 365.25 days for leap years\n"
   ]
  },
  {
   "cell_type": "code",
   "execution_count": 6,
   "id": "73e6ac35",
   "metadata": {
    "execution": {
     "iopub.execute_input": "2023-12-09T06:23:39.145924Z",
     "iopub.status.busy": "2023-12-09T06:23:39.144900Z",
     "iopub.status.idle": "2023-12-09T06:23:39.161578Z",
     "shell.execute_reply": "2023-12-09T06:23:39.160405Z"
    },
    "papermill": {
     "duration": 0.026231,
     "end_time": "2023-12-09T06:23:39.163964",
     "exception": false,
     "start_time": "2023-12-09T06:23:39.137733",
     "status": "completed"
    },
    "tags": []
   },
   "outputs": [
    {
     "data": {
      "text/html": [
       "<div>\n",
       "<style scoped>\n",
       "    .dataframe tbody tr th:only-of-type {\n",
       "        vertical-align: middle;\n",
       "    }\n",
       "\n",
       "    .dataframe tbody tr th {\n",
       "        vertical-align: top;\n",
       "    }\n",
       "\n",
       "    .dataframe thead th {\n",
       "        text-align: right;\n",
       "    }\n",
       "</style>\n",
       "<table border=\"1\" class=\"dataframe\">\n",
       "  <thead>\n",
       "    <tr style=\"text-align: right;\">\n",
       "      <th></th>\n",
       "      <th>id</th>\n",
       "      <th>age</th>\n",
       "      <th>gender</th>\n",
       "      <th>height</th>\n",
       "      <th>weight</th>\n",
       "      <th>ap_hi</th>\n",
       "      <th>ap_lo</th>\n",
       "      <th>cholesterol</th>\n",
       "      <th>gluc</th>\n",
       "      <th>smoke</th>\n",
       "      <th>alco</th>\n",
       "      <th>active</th>\n",
       "      <th>cardio</th>\n",
       "    </tr>\n",
       "  </thead>\n",
       "  <tbody>\n",
       "    <tr>\n",
       "      <th>0</th>\n",
       "      <td>0</td>\n",
       "      <td>50.0</td>\n",
       "      <td>2</td>\n",
       "      <td>168</td>\n",
       "      <td>62.0</td>\n",
       "      <td>110</td>\n",
       "      <td>80</td>\n",
       "      <td>1</td>\n",
       "      <td>1</td>\n",
       "      <td>0</td>\n",
       "      <td>0</td>\n",
       "      <td>1</td>\n",
       "      <td>0</td>\n",
       "    </tr>\n",
       "    <tr>\n",
       "      <th>1</th>\n",
       "      <td>1</td>\n",
       "      <td>55.0</td>\n",
       "      <td>1</td>\n",
       "      <td>156</td>\n",
       "      <td>85.0</td>\n",
       "      <td>140</td>\n",
       "      <td>90</td>\n",
       "      <td>3</td>\n",
       "      <td>1</td>\n",
       "      <td>0</td>\n",
       "      <td>0</td>\n",
       "      <td>1</td>\n",
       "      <td>1</td>\n",
       "    </tr>\n",
       "    <tr>\n",
       "      <th>2</th>\n",
       "      <td>2</td>\n",
       "      <td>51.0</td>\n",
       "      <td>1</td>\n",
       "      <td>165</td>\n",
       "      <td>64.0</td>\n",
       "      <td>130</td>\n",
       "      <td>70</td>\n",
       "      <td>3</td>\n",
       "      <td>1</td>\n",
       "      <td>0</td>\n",
       "      <td>0</td>\n",
       "      <td>0</td>\n",
       "      <td>1</td>\n",
       "    </tr>\n",
       "    <tr>\n",
       "      <th>3</th>\n",
       "      <td>3</td>\n",
       "      <td>48.0</td>\n",
       "      <td>2</td>\n",
       "      <td>169</td>\n",
       "      <td>82.0</td>\n",
       "      <td>150</td>\n",
       "      <td>100</td>\n",
       "      <td>1</td>\n",
       "      <td>1</td>\n",
       "      <td>0</td>\n",
       "      <td>0</td>\n",
       "      <td>1</td>\n",
       "      <td>1</td>\n",
       "    </tr>\n",
       "    <tr>\n",
       "      <th>4</th>\n",
       "      <td>4</td>\n",
       "      <td>47.0</td>\n",
       "      <td>1</td>\n",
       "      <td>156</td>\n",
       "      <td>56.0</td>\n",
       "      <td>100</td>\n",
       "      <td>60</td>\n",
       "      <td>1</td>\n",
       "      <td>1</td>\n",
       "      <td>0</td>\n",
       "      <td>0</td>\n",
       "      <td>0</td>\n",
       "      <td>0</td>\n",
       "    </tr>\n",
       "  </tbody>\n",
       "</table>\n",
       "</div>"
      ],
      "text/plain": [
       "   id   age  gender  height  weight  ap_hi  ap_lo  cholesterol  gluc  smoke  \\\n",
       "0   0  50.0       2     168    62.0    110     80            1     1      0   \n",
       "1   1  55.0       1     156    85.0    140     90            3     1      0   \n",
       "2   2  51.0       1     165    64.0    130     70            3     1      0   \n",
       "3   3  48.0       2     169    82.0    150    100            1     1      0   \n",
       "4   4  47.0       1     156    56.0    100     60            1     1      0   \n",
       "\n",
       "   alco  active  cardio  \n",
       "0     0       1       0  \n",
       "1     0       1       1  \n",
       "2     0       0       1  \n",
       "3     0       1       1  \n",
       "4     0       0       0  "
      ]
     },
     "execution_count": 6,
     "metadata": {},
     "output_type": "execute_result"
    }
   ],
   "source": [
    "data.head()\n"
   ]
  },
  {
   "cell_type": "code",
   "execution_count": 7,
   "id": "863f66b6",
   "metadata": {
    "execution": {
     "iopub.execute_input": "2023-12-09T06:23:39.178521Z",
     "iopub.status.busy": "2023-12-09T06:23:39.177866Z",
     "iopub.status.idle": "2023-12-09T06:23:39.193210Z",
     "shell.execute_reply": "2023-12-09T06:23:39.192098Z"
    },
    "papermill": {
     "duration": 0.025394,
     "end_time": "2023-12-09T06:23:39.195569",
     "exception": false,
     "start_time": "2023-12-09T06:23:39.170175",
     "status": "completed"
    },
    "tags": []
   },
   "outputs": [
    {
     "name": "stdout",
     "output_type": "stream",
     "text": [
      "The average cholesterol for people over 50 is 1.43\n",
      "The average cholesterol for people under 50 is 1.25\n"
     ]
    }
   ],
   "source": [
    "\n",
    "# Assuming the column representing age is 'age' and cholesterol is 'cholesterol'\n",
    "age_threshold = 50\n",
    "\n",
    "# Create a new column indicating whether the person is over 50\n",
    "data['over_50'] = data['age'] > age_threshold\n",
    "\n",
    "# Calculate the average cholesterol for people over 50 and under 50\n",
    "average_cholesterol_over_50 = data[data['over_50']]['cholesterol'].mean()\n",
    "average_cholesterol_under_50 = data[~data['over_50']]['cholesterol'].mean()\n",
    "\n",
    "print(f\"The average cholesterol for people over 50 is {average_cholesterol_over_50:.2f}\")\n",
    "print(f\"The average cholesterol for people under 50 is {average_cholesterol_under_50:.2f}\")\n",
    "\n",
    "# Perform a t-test or another statistical test if needed\n"
   ]
  },
  {
   "cell_type": "code",
   "execution_count": 8,
   "id": "33830d3e",
   "metadata": {
    "execution": {
     "iopub.execute_input": "2023-12-09T06:23:39.210208Z",
     "iopub.status.busy": "2023-12-09T06:23:39.209553Z",
     "iopub.status.idle": "2023-12-09T06:23:39.227907Z",
     "shell.execute_reply": "2023-12-09T06:23:39.226782Z"
    },
    "papermill": {
     "duration": 0.028167,
     "end_time": "2023-12-09T06:23:39.230165",
     "exception": false,
     "start_time": "2023-12-09T06:23:39.201998",
     "status": "completed"
    },
    "tags": []
   },
   "outputs": [
    {
     "name": "stdout",
     "output_type": "stream",
     "text": [
      "Smoking rate for men: 1.79%\n",
      "Smoking rate for women: 21.89%\n",
      "Women are more likely to be smokers than men.\n"
     ]
    }
   ],
   "source": [
    "# Calculate smoking rates for men and women\n",
    "smoking_rates = data.groupby('gender')['smoke'].mean()\n",
    "\n",
    "# Print the smoking rates for men and women\n",
    "print(f\"Smoking rate for men: {smoking_rates[1]:.2%}\")\n",
    "print(f\"Smoking rate for women: {smoking_rates[2]:.2%}\")\n",
    "\n",
    "# Compare smoking rates\n",
    "if smoking_rates[1] > smoking_rates[2]:\n",
    "    print(\"Men are more likely to be smokers than women.\")\n",
    "elif smoking_rates[1] < smoking_rates[2]:\n",
    "    print(\"Women are more likely to be smokers than men.\")\n",
    "else:\n",
    "    print(\"The smoking rates for men and women are the same.\")"
   ]
  },
  {
   "cell_type": "code",
   "execution_count": 9,
   "id": "32b60c94",
   "metadata": {
    "execution": {
     "iopub.execute_input": "2023-12-09T06:23:39.244889Z",
     "iopub.status.busy": "2023-12-09T06:23:39.244079Z",
     "iopub.status.idle": "2023-12-09T06:23:39.254793Z",
     "shell.execute_reply": "2023-12-09T06:23:39.252986Z"
    },
    "papermill": {
     "duration": 0.020582,
     "end_time": "2023-12-09T06:23:39.257262",
     "exception": false,
     "start_time": "2023-12-09T06:23:39.236680",
     "status": "completed"
    },
    "tags": []
   },
   "outputs": [
    {
     "name": "stdout",
     "output_type": "stream",
     "text": [
      "The height of the tallest 1% of people is 184.00 cm.\n"
     ]
    }
   ],
   "source": [
    "# Calculate the height of the tallest 1% of people\n",
    "tallest_1_percent_height = data['height'].quantile(0.99)\n",
    "\n",
    "print(f\"The height of the tallest 1% of people is {tallest_1_percent_height:.2f} cm.\")"
   ]
  },
  {
   "cell_type": "code",
   "execution_count": 10,
   "id": "42a32d25",
   "metadata": {
    "execution": {
     "iopub.execute_input": "2023-12-09T06:23:39.272265Z",
     "iopub.status.busy": "2023-12-09T06:23:39.271821Z",
     "iopub.status.idle": "2023-12-09T06:23:39.283803Z",
     "shell.execute_reply": "2023-12-09T06:23:39.282217Z"
    },
    "papermill": {
     "duration": 0.022518,
     "end_time": "2023-12-09T06:23:39.286281",
     "exception": false,
     "start_time": "2023-12-09T06:23:39.263763",
     "status": "completed"
    },
    "tags": []
   },
   "outputs": [],
   "source": [
    "#we can remove the person's Id from given index\n",
    "data.drop(columns='id',inplace=True)"
   ]
  },
  {
   "cell_type": "code",
   "execution_count": 11,
   "id": "8ae04949",
   "metadata": {
    "execution": {
     "iopub.execute_input": "2023-12-09T06:23:39.301972Z",
     "iopub.status.busy": "2023-12-09T06:23:39.300889Z",
     "iopub.status.idle": "2023-12-09T06:23:39.318918Z",
     "shell.execute_reply": "2023-12-09T06:23:39.317838Z"
    },
    "papermill": {
     "duration": 0.028288,
     "end_time": "2023-12-09T06:23:39.321284",
     "exception": false,
     "start_time": "2023-12-09T06:23:39.292996",
     "status": "completed"
    },
    "tags": []
   },
   "outputs": [
    {
     "data": {
      "text/html": [
       "<div>\n",
       "<style scoped>\n",
       "    .dataframe tbody tr th:only-of-type {\n",
       "        vertical-align: middle;\n",
       "    }\n",
       "\n",
       "    .dataframe tbody tr th {\n",
       "        vertical-align: top;\n",
       "    }\n",
       "\n",
       "    .dataframe thead th {\n",
       "        text-align: right;\n",
       "    }\n",
       "</style>\n",
       "<table border=\"1\" class=\"dataframe\">\n",
       "  <thead>\n",
       "    <tr style=\"text-align: right;\">\n",
       "      <th></th>\n",
       "      <th>age</th>\n",
       "      <th>gender</th>\n",
       "      <th>height</th>\n",
       "      <th>weight</th>\n",
       "      <th>ap_hi</th>\n",
       "      <th>ap_lo</th>\n",
       "      <th>cholesterol</th>\n",
       "      <th>gluc</th>\n",
       "      <th>smoke</th>\n",
       "      <th>alco</th>\n",
       "      <th>active</th>\n",
       "      <th>cardio</th>\n",
       "      <th>over_50</th>\n",
       "    </tr>\n",
       "  </thead>\n",
       "  <tbody>\n",
       "    <tr>\n",
       "      <th>0</th>\n",
       "      <td>50.0</td>\n",
       "      <td>2</td>\n",
       "      <td>168</td>\n",
       "      <td>62.0</td>\n",
       "      <td>110</td>\n",
       "      <td>80</td>\n",
       "      <td>1</td>\n",
       "      <td>1</td>\n",
       "      <td>0</td>\n",
       "      <td>0</td>\n",
       "      <td>1</td>\n",
       "      <td>0</td>\n",
       "      <td>False</td>\n",
       "    </tr>\n",
       "    <tr>\n",
       "      <th>1</th>\n",
       "      <td>55.0</td>\n",
       "      <td>1</td>\n",
       "      <td>156</td>\n",
       "      <td>85.0</td>\n",
       "      <td>140</td>\n",
       "      <td>90</td>\n",
       "      <td>3</td>\n",
       "      <td>1</td>\n",
       "      <td>0</td>\n",
       "      <td>0</td>\n",
       "      <td>1</td>\n",
       "      <td>1</td>\n",
       "      <td>True</td>\n",
       "    </tr>\n",
       "    <tr>\n",
       "      <th>2</th>\n",
       "      <td>51.0</td>\n",
       "      <td>1</td>\n",
       "      <td>165</td>\n",
       "      <td>64.0</td>\n",
       "      <td>130</td>\n",
       "      <td>70</td>\n",
       "      <td>3</td>\n",
       "      <td>1</td>\n",
       "      <td>0</td>\n",
       "      <td>0</td>\n",
       "      <td>0</td>\n",
       "      <td>1</td>\n",
       "      <td>True</td>\n",
       "    </tr>\n",
       "    <tr>\n",
       "      <th>3</th>\n",
       "      <td>48.0</td>\n",
       "      <td>2</td>\n",
       "      <td>169</td>\n",
       "      <td>82.0</td>\n",
       "      <td>150</td>\n",
       "      <td>100</td>\n",
       "      <td>1</td>\n",
       "      <td>1</td>\n",
       "      <td>0</td>\n",
       "      <td>0</td>\n",
       "      <td>1</td>\n",
       "      <td>1</td>\n",
       "      <td>False</td>\n",
       "    </tr>\n",
       "    <tr>\n",
       "      <th>4</th>\n",
       "      <td>47.0</td>\n",
       "      <td>1</td>\n",
       "      <td>156</td>\n",
       "      <td>56.0</td>\n",
       "      <td>100</td>\n",
       "      <td>60</td>\n",
       "      <td>1</td>\n",
       "      <td>1</td>\n",
       "      <td>0</td>\n",
       "      <td>0</td>\n",
       "      <td>0</td>\n",
       "      <td>0</td>\n",
       "      <td>False</td>\n",
       "    </tr>\n",
       "  </tbody>\n",
       "</table>\n",
       "</div>"
      ],
      "text/plain": [
       "    age  gender  height  weight  ap_hi  ap_lo  cholesterol  gluc  smoke  alco  \\\n",
       "0  50.0       2     168    62.0    110     80            1     1      0     0   \n",
       "1  55.0       1     156    85.0    140     90            3     1      0     0   \n",
       "2  51.0       1     165    64.0    130     70            3     1      0     0   \n",
       "3  48.0       2     169    82.0    150    100            1     1      0     0   \n",
       "4  47.0       1     156    56.0    100     60            1     1      0     0   \n",
       "\n",
       "   active  cardio  over_50  \n",
       "0       1       0    False  \n",
       "1       1       1     True  \n",
       "2       0       1     True  \n",
       "3       1       1    False  \n",
       "4       0       0    False  "
      ]
     },
     "execution_count": 11,
     "metadata": {},
     "output_type": "execute_result"
    }
   ],
   "source": [
    "data.head()"
   ]
  },
  {
   "cell_type": "code",
   "execution_count": 12,
   "id": "c5b0972d",
   "metadata": {
    "execution": {
     "iopub.execute_input": "2023-12-09T06:23:39.336841Z",
     "iopub.status.busy": "2023-12-09T06:23:39.336203Z",
     "iopub.status.idle": "2023-12-09T06:23:39.445539Z",
     "shell.execute_reply": "2023-12-09T06:23:39.444464Z"
    },
    "papermill": {
     "duration": 0.12053,
     "end_time": "2023-12-09T06:23:39.448497",
     "exception": false,
     "start_time": "2023-12-09T06:23:39.327967",
     "status": "completed"
    },
    "tags": []
   },
   "outputs": [
    {
     "name": "stdout",
     "output_type": "stream",
     "text": [
      "The two features with the highest Spearman rank correlation are: age and age\n",
      "The correlation coefficient is: 1.0000\n"
     ]
    }
   ],
   "source": [
    "# Calculate the Spearman rank correlation matrix\n",
    "spearman_corr_matrix = data.corr(method='spearman')\n",
    "\n",
    "# Find the pair of features with the highest Spearman rank correlation\n",
    "max_corr = spearman_corr_matrix.abs().stack().idxmax()\n",
    "feature1, feature2 = max_corr\n",
    "\n",
    "# Get the correlation coefficient\n",
    "correlation_coefficient = spearman_corr_matrix.loc[feature1, feature2]\n",
    "\n",
    "print(f\"The two features with the highest Spearman rank correlation are: {feature1} and {feature2}\")\n",
    "print(f\"The correlation coefficient is: {correlation_coefficient:.4f}\")"
   ]
  },
  {
   "cell_type": "code",
   "execution_count": 13,
   "id": "ec739179",
   "metadata": {
    "execution": {
     "iopub.execute_input": "2023-12-09T06:23:39.464491Z",
     "iopub.status.busy": "2023-12-09T06:23:39.464107Z",
     "iopub.status.idle": "2023-12-09T06:23:39.479203Z",
     "shell.execute_reply": "2023-12-09T06:23:39.478070Z"
    },
    "papermill": {
     "duration": 0.026039,
     "end_time": "2023-12-09T06:23:39.481637",
     "exception": false,
     "start_time": "2023-12-09T06:23:39.455598",
     "status": "completed"
    },
    "tags": []
   },
   "outputs": [
    {
     "name": "stdout",
     "output_type": "stream",
     "text": [
      "The percentage of ages more than 2 standard deviations away from the average height is: 3.34%\n"
     ]
    }
   ],
   "source": [
    "# Calculate the z-scores for height\n",
    "data['height_zscore'] = (data['height'] - data['height'].mean()) / data['height'].std()\n",
    "\n",
    "# Identify ages more than 2 standard deviations away from the average height\n",
    "outliers_percentage = (data['height_zscore'].abs() > 2).mean() * 100\n",
    "\n",
    "print(f\"The percentage of ages more than 2 standard deviations away from the average height is: {outliers_percentage:.2f}%\")"
   ]
  },
  {
   "cell_type": "code",
   "execution_count": 14,
   "id": "15e03605",
   "metadata": {
    "execution": {
     "iopub.execute_input": "2023-12-09T06:23:39.497396Z",
     "iopub.status.busy": "2023-12-09T06:23:39.497016Z",
     "iopub.status.idle": "2023-12-09T06:23:39.510802Z",
     "shell.execute_reply": "2023-12-09T06:23:39.509421Z"
    },
    "papermill": {
     "duration": 0.024551,
     "end_time": "2023-12-09T06:23:39.513138",
     "exception": false,
     "start_time": "2023-12-09T06:23:39.488587",
     "status": "completed"
    },
    "tags": []
   },
   "outputs": [
    {
     "name": "stdout",
     "output_type": "stream",
     "text": [
      "The percentage of individuals over 50 years old who consume alcohol is: 4.95%\n"
     ]
    }
   ],
   "source": [
    "# Filter individuals over 50 years old\n",
    "over_50 = data[data['age'] > 50]\n",
    "\n",
    "# Calculate the percentage of individuals over 50 who consume alcohol\n",
    "alcohol_percentage_over_50 = (over_50['alco'] == 1).mean() * 100\n",
    "\n",
    "print(f\"The percentage of individuals over 50 years old who consume alcohol is: {alcohol_percentage_over_50:.2f}%\")\n"
   ]
  }
 ],
 "metadata": {
  "kaggle": {
   "accelerator": "none",
   "dataSources": [
    {
     "datasetId": 107706,
     "sourceId": 256873,
     "sourceType": "datasetVersion"
    }
   ],
   "dockerImageVersionId": 30587,
   "isGpuEnabled": false,
   "isInternetEnabled": true,
   "language": "python",
   "sourceType": "notebook"
  },
  "kernelspec": {
   "display_name": "Python 3",
   "language": "python",
   "name": "python3"
  },
  "language_info": {
   "codemirror_mode": {
    "name": "ipython",
    "version": 3
   },
   "file_extension": ".py",
   "mimetype": "text/x-python",
   "name": "python",
   "nbconvert_exporter": "python",
   "pygments_lexer": "ipython3",
   "version": "3.10.12"
  },
  "papermill": {
   "default_parameters": {},
   "duration": 5.924481,
   "end_time": "2023-12-09T06:23:40.041127",
   "environment_variables": {},
   "exception": null,
   "input_path": "__notebook__.ipynb",
   "output_path": "__notebook__.ipynb",
   "parameters": {},
   "start_time": "2023-12-09T06:23:34.116646",
   "version": "2.4.0"
  }
 },
 "nbformat": 4,
 "nbformat_minor": 5
}
